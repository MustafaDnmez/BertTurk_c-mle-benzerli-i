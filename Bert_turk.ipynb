{
  "nbformat": 4,
  "nbformat_minor": 0,
  "metadata": {
    "colab": {
      "name": "Bert_turk.ipynb",
      "provenance": [],
      "collapsed_sections": [],
      "authorship_tag": "ABX9TyM8YBmBNWJiU0LUZ5o1p+R5",
      "include_colab_link": true
    },
    "kernelspec": {
      "name": "python3",
      "display_name": "Python 3"
    },
    "language_info": {
      "name": "python"
    },
    "gpuClass": "standard"
  },
  "cells": [
    {
      "cell_type": "markdown",
      "metadata": {
        "id": "view-in-github",
        "colab_type": "text"
      },
      "source": [
        "<a href=\"https://colab.research.google.com/github/Svmafat/BertTurk_c-mle-benzerli-i/blob/main/Bert_turk.ipynb\" target=\"_parent\"><img src=\"https://colab.research.google.com/assets/colab-badge.svg\" alt=\"Open In Colab\"/></a>"
      ]
    },
    {
      "cell_type": "code",
      "execution_count": 4,
      "metadata": {
        "colab": {
          "base_uri": "https://localhost:8080/"
        },
        "id": "l3j5diBmwW6_",
        "outputId": "118f6b96-d13f-41c9-8a00-b32f59afb5ec"
      },
      "outputs": [
        {
          "output_type": "stream",
          "name": "stdout",
          "text": [
            "Looking in indexes: https://pypi.org/simple, https://us-python.pkg.dev/colab-wheels/public/simple/\n",
            "Collecting sentence-transformers\n",
            "  Downloading sentence-transformers-2.2.2.tar.gz (85 kB)\n",
            "\u001b[K     |████████████████████████████████| 85 kB 3.6 MB/s \n",
            "\u001b[?25hCollecting transformers<5.0.0,>=4.6.0\n",
            "  Downloading transformers-4.20.1-py3-none-any.whl (4.4 MB)\n",
            "\u001b[K     |████████████████████████████████| 4.4 MB 20.0 MB/s \n",
            "\u001b[?25hRequirement already satisfied: tqdm in /usr/local/lib/python3.7/dist-packages (from sentence-transformers) (4.64.0)\n",
            "Requirement already satisfied: torch>=1.6.0 in /usr/local/lib/python3.7/dist-packages (from sentence-transformers) (1.12.0+cu113)\n",
            "Requirement already satisfied: torchvision in /usr/local/lib/python3.7/dist-packages (from sentence-transformers) (0.13.0+cu113)\n",
            "Requirement already satisfied: numpy in /usr/local/lib/python3.7/dist-packages (from sentence-transformers) (1.21.6)\n",
            "Requirement already satisfied: scikit-learn in /usr/local/lib/python3.7/dist-packages (from sentence-transformers) (1.0.2)\n",
            "Requirement already satisfied: scipy in /usr/local/lib/python3.7/dist-packages (from sentence-transformers) (1.7.3)\n",
            "Requirement already satisfied: nltk in /usr/local/lib/python3.7/dist-packages (from sentence-transformers) (3.7)\n",
            "Collecting sentencepiece\n",
            "  Downloading sentencepiece-0.1.96-cp37-cp37m-manylinux_2_17_x86_64.manylinux2014_x86_64.whl (1.2 MB)\n",
            "\u001b[K     |████████████████████████████████| 1.2 MB 53.3 MB/s \n",
            "\u001b[?25hCollecting huggingface-hub>=0.4.0\n",
            "  Downloading huggingface_hub-0.8.1-py3-none-any.whl (101 kB)\n",
            "\u001b[K     |████████████████████████████████| 101 kB 12.0 MB/s \n",
            "\u001b[?25hRequirement already satisfied: filelock in /usr/local/lib/python3.7/dist-packages (from huggingface-hub>=0.4.0->sentence-transformers) (3.7.1)\n",
            "Requirement already satisfied: requests in /usr/local/lib/python3.7/dist-packages (from huggingface-hub>=0.4.0->sentence-transformers) (2.23.0)\n",
            "Requirement already satisfied: packaging>=20.9 in /usr/local/lib/python3.7/dist-packages (from huggingface-hub>=0.4.0->sentence-transformers) (21.3)\n",
            "Requirement already satisfied: importlib-metadata in /usr/local/lib/python3.7/dist-packages (from huggingface-hub>=0.4.0->sentence-transformers) (4.12.0)\n",
            "Collecting pyyaml>=5.1\n",
            "  Downloading PyYAML-6.0-cp37-cp37m-manylinux_2_5_x86_64.manylinux1_x86_64.manylinux_2_12_x86_64.manylinux2010_x86_64.whl (596 kB)\n",
            "\u001b[K     |████████████████████████████████| 596 kB 64.8 MB/s \n",
            "\u001b[?25hRequirement already satisfied: typing-extensions>=3.7.4.3 in /usr/local/lib/python3.7/dist-packages (from huggingface-hub>=0.4.0->sentence-transformers) (4.1.1)\n",
            "Requirement already satisfied: pyparsing!=3.0.5,>=2.0.2 in /usr/local/lib/python3.7/dist-packages (from packaging>=20.9->huggingface-hub>=0.4.0->sentence-transformers) (3.0.9)\n",
            "Collecting tokenizers!=0.11.3,<0.13,>=0.11.1\n",
            "  Downloading tokenizers-0.12.1-cp37-cp37m-manylinux_2_12_x86_64.manylinux2010_x86_64.whl (6.6 MB)\n",
            "\u001b[K     |████████████████████████████████| 6.6 MB 64.5 MB/s \n",
            "\u001b[?25hRequirement already satisfied: regex!=2019.12.17 in /usr/local/lib/python3.7/dist-packages (from transformers<5.0.0,>=4.6.0->sentence-transformers) (2022.6.2)\n",
            "Requirement already satisfied: zipp>=0.5 in /usr/local/lib/python3.7/dist-packages (from importlib-metadata->huggingface-hub>=0.4.0->sentence-transformers) (3.8.1)\n",
            "Requirement already satisfied: joblib in /usr/local/lib/python3.7/dist-packages (from nltk->sentence-transformers) (1.1.0)\n",
            "Requirement already satisfied: click in /usr/local/lib/python3.7/dist-packages (from nltk->sentence-transformers) (7.1.2)\n",
            "Requirement already satisfied: chardet<4,>=3.0.2 in /usr/local/lib/python3.7/dist-packages (from requests->huggingface-hub>=0.4.0->sentence-transformers) (3.0.4)\n",
            "Requirement already satisfied: certifi>=2017.4.17 in /usr/local/lib/python3.7/dist-packages (from requests->huggingface-hub>=0.4.0->sentence-transformers) (2022.6.15)\n",
            "Requirement already satisfied: idna<3,>=2.5 in /usr/local/lib/python3.7/dist-packages (from requests->huggingface-hub>=0.4.0->sentence-transformers) (2.10)\n",
            "Requirement already satisfied: urllib3!=1.25.0,!=1.25.1,<1.26,>=1.21.1 in /usr/local/lib/python3.7/dist-packages (from requests->huggingface-hub>=0.4.0->sentence-transformers) (1.24.3)\n",
            "Requirement already satisfied: threadpoolctl>=2.0.0 in /usr/local/lib/python3.7/dist-packages (from scikit-learn->sentence-transformers) (3.1.0)\n",
            "Requirement already satisfied: pillow!=8.3.*,>=5.3.0 in /usr/local/lib/python3.7/dist-packages (from torchvision->sentence-transformers) (7.1.2)\n",
            "Building wheels for collected packages: sentence-transformers\n",
            "  Building wheel for sentence-transformers (setup.py) ... \u001b[?25l\u001b[?25hdone\n",
            "  Created wheel for sentence-transformers: filename=sentence_transformers-2.2.2-py3-none-any.whl size=125938 sha256=d589108c24397890709bc9ce513790378214d5af458cd7cbc410e326bb887c3d\n",
            "  Stored in directory: /root/.cache/pip/wheels/bf/06/fb/d59c1e5bd1dac7f6cf61ec0036cc3a10ab8fecaa6b2c3d3ee9\n",
            "Successfully built sentence-transformers\n",
            "Installing collected packages: pyyaml, tokenizers, huggingface-hub, transformers, sentencepiece, sentence-transformers\n",
            "  Attempting uninstall: pyyaml\n",
            "    Found existing installation: PyYAML 3.13\n",
            "    Uninstalling PyYAML-3.13:\n",
            "      Successfully uninstalled PyYAML-3.13\n",
            "Successfully installed huggingface-hub-0.8.1 pyyaml-6.0 sentence-transformers-2.2.2 sentencepiece-0.1.96 tokenizers-0.12.1 transformers-4.20.1\n"
          ]
        }
      ],
      "source": [
        "pip install -U sentence-transformers\n"
      ]
    },
    {
      "cell_type": "code",
      "source": [
        "from sentence_transformers import SentenceTransformer\n",
        "sentences = [   \"Örnek cümleler\",\"Çocuk ilk eğitimini ailede alır\",\"Elma, çok sevdiğim bir meyvedir.\",\"Ödevlerimi henüz bitirmedim.\"]\n",
        "sentences2 = [\"karşılaştırılan cümleler\",\"Anne ve baba çocuğun ilk öğretmenleridir\",\"Meyveler içinde en çok elmayı severim\",\"Ödevlerimi yarına ancak bitiririm\"]\n",
        "model = SentenceTransformer('emrecan/bert-base-turkish-cased-mean-nli-stsb-tr') #Türkçe model farklı modelleride kullanabilirsiniz\n",
        "embeddings = model.encode(sentences)#vektöre çeviriyor\n",
        "embeddings2 = model.encode(sentences2)\n",
        "print(embeddings)\n",
        "embeddings.shape"
      ],
      "metadata": {
        "colab": {
          "base_uri": "https://localhost:8080/"
        },
        "id": "ZnaBAX8Dw0pZ",
        "outputId": "ccafffd4-101f-4cbc-f9d4-b285d2edbc93"
      },
      "execution_count": 16,
      "outputs": [
        {
          "output_type": "stream",
          "name": "stdout",
          "text": [
            "[[ 7.8376865e-01 -3.3277220e-01 -7.6095152e-01 ... -6.5953457e-01\n",
            "  -1.9630727e-01 -7.8335035e-01]\n",
            " [-7.0756042e-01  5.9373509e-02 -5.3065342e-01 ...  5.3979838e-01\n",
            "   4.1884235e-01 -1.1209391e+00]\n",
            " [-4.8340570e-02  9.8617774e-01  6.2048883e-04 ...  9.7477138e-01\n",
            "  -8.9869535e-01 -2.2308937e-01]\n",
            " [ 6.8650359e-01  2.6384625e-01  5.1938719e-01 ... -8.5603976e-01\n",
            "  -7.9914618e-01 -7.2528291e-01]]\n"
          ]
        },
        {
          "output_type": "execute_result",
          "data": {
            "text/plain": [
              "(4, 768)"
            ]
          },
          "metadata": {},
          "execution_count": 16
        }
      ]
    },
    {
      "cell_type": "code",
      "source": [
        "from sentence_transformers import SentenceTransformer, util"
      ],
      "metadata": {
        "id": "rm4wAkhd9viS"
      },
      "execution_count": 6,
      "outputs": []
    },
    {
      "cell_type": "code",
      "source": [
        "import json\n",
        "cosine_scores = util.cos_sim(embeddings, embeddings2) #matrex hasablaması\n",
        "\n",
        "for i in range(len(sentences)):\n",
        "  for j in range(len(sentences2)):\n",
        "    print(\"{} \\t\\t {} \\t\\t Score: {:.4f}\".format(sentences[i], sentences2[j], cosine_scores[i][j]))\n",
        "    "
      ],
      "metadata": {
        "colab": {
          "base_uri": "https://localhost:8080/"
        },
        "id": "wdx10dxBdGbV",
        "outputId": "5334fe57-190d-4dad-9b21-a3ba1b31ed14"
      },
      "execution_count": 20,
      "outputs": [
        {
          "output_type": "stream",
          "name": "stdout",
          "text": [
            "Örnek cümleler \t\t karşılaştırılan cümleler \t\t Score: 0.7814\n",
            "Örnek cümleler \t\t Anne ve baba çocuğun ilk öğretmenleridir \t\t Score: 0.1323\n",
            "Örnek cümleler \t\t Meyveler içinde en çok elmayı severim \t\t Score: 0.0706\n",
            "Örnek cümleler \t\t Ödevlerimi yarına ancak bitiririm \t\t Score: 0.2808\n",
            "Çocuk ilk eğitimini ailede alır \t\t karşılaştırılan cümleler \t\t Score: -0.0169\n",
            "Çocuk ilk eğitimini ailede alır \t\t Anne ve baba çocuğun ilk öğretmenleridir \t\t Score: 0.7163\n",
            "Çocuk ilk eğitimini ailede alır \t\t Meyveler içinde en çok elmayı severim \t\t Score: 0.0048\n",
            "Çocuk ilk eğitimini ailede alır \t\t Ödevlerimi yarına ancak bitiririm \t\t Score: 0.0245\n",
            "Elma, çok sevdiğim bir meyvedir. \t\t karşılaştırılan cümleler \t\t Score: 0.0400\n",
            "Elma, çok sevdiğim bir meyvedir. \t\t Anne ve baba çocuğun ilk öğretmenleridir \t\t Score: 0.0032\n",
            "Elma, çok sevdiğim bir meyvedir. \t\t Meyveler içinde en çok elmayı severim \t\t Score: 0.8701\n",
            "Elma, çok sevdiğim bir meyvedir. \t\t Ödevlerimi yarına ancak bitiririm \t\t Score: 0.0518\n",
            "Ödevlerimi henüz bitirmedim. \t\t karşılaştırılan cümleler \t\t Score: 0.1478\n",
            "Ödevlerimi henüz bitirmedim. \t\t Anne ve baba çocuğun ilk öğretmenleridir \t\t Score: 0.1786\n",
            "Ödevlerimi henüz bitirmedim. \t\t Meyveler içinde en çok elmayı severim \t\t Score: 0.1860\n",
            "Ödevlerimi henüz bitirmedim. \t\t Ödevlerimi yarına ancak bitiririm \t\t Score: 0.6504\n"
          ]
        }
      ]
    }
  ]
}